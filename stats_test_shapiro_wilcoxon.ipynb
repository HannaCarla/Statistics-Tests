{
 "cells": [
  {
   "cell_type": "markdown",
   "metadata": {},
   "source": [
    "O objetivo deste notebook é demonstrar como realizar dois testes estatísticos básicos que apliquei nos resultados da minha pesquisa de mestrado. \n",
    "\n",
    "Contextualizando:\n",
    "\n",
    "No meu trabalho, eu realizei a classificação de sinais de eletroencefalografia em:\n",
    " - sinal normal (classe 0) \n",
    " - sinal de crise epiléptica (classe 1)\n",
    " \n",
    "O banco de dados que utilizei possui um desbalanceamento de classes extremo, portanto, utilizei técnicas como os pesos de classe e a alteração do limite de probabilidade de classificação. Além dessas técnicas, também realizei uma classificação usando os dados balanceados.\n",
    "\n",
    "Utilizando o teste estatístico de Shapiro-Wilk, verifiquei a distribuição dos dados. \n",
    "\n",
    "Conclui a análise comparando os resultados obtidos nas duas classificações usando o teste de Wilcoxon."
   ]
  },
  {
   "cell_type": "code",
   "execution_count": 1,
   "metadata": {},
   "outputs": [],
   "source": [
    "import pandas as pd\n",
    "import numpy as np\n",
    "import seaborn as sns\n",
    "import matplotlib.pyplot as plt\n",
    "from scipy.stats import shapiro\n",
    "from scipy.stats import wilcoxon"
   ]
  },
  {
   "cell_type": "markdown",
   "metadata": {},
   "source": [
    "Inicialmente, fazemos a leitura dos dados e verificamos valores nulos.\n",
    "\n",
    "O dataframe contém as métricas de performance da classificação dos 18 pacientes da amostra de teste.\n",
    "- A letra I indica as métricas da classificação desbalanceada \n",
    "- A letra B indica as métricas da classificação balanceada"
   ]
  },
  {
   "cell_type": "code",
   "execution_count": 2,
   "metadata": {},
   "outputs": [],
   "source": [
    "dados = pd.read_excel(\"results.xlsx\")"
   ]
  },
  {
   "cell_type": "code",
   "execution_count": 3,
   "metadata": {},
   "outputs": [
    {
     "data": {
      "text/html": [
       "<div>\n",
       "<style scoped>\n",
       "    .dataframe tbody tr th:only-of-type {\n",
       "        vertical-align: middle;\n",
       "    }\n",
       "\n",
       "    .dataframe tbody tr th {\n",
       "        vertical-align: top;\n",
       "    }\n",
       "\n",
       "    .dataframe thead th {\n",
       "        text-align: right;\n",
       "    }\n",
       "</style>\n",
       "<table border=\"1\" class=\"dataframe\">\n",
       "  <thead>\n",
       "    <tr style=\"text-align: right;\">\n",
       "      <th></th>\n",
       "      <th>Acc-I</th>\n",
       "      <th>Acc-B</th>\n",
       "      <th>ROC-I</th>\n",
       "      <th>ROC-B</th>\n",
       "      <th>PR-I</th>\n",
       "      <th>PR-B</th>\n",
       "      <th>Precision 0 - I</th>\n",
       "      <th>Precision 0 - B</th>\n",
       "      <th>Recall 0 - I</th>\n",
       "      <th>Recall 0 - B</th>\n",
       "      <th>F1-Score 0 - I</th>\n",
       "      <th>F1-Score 0 - B</th>\n",
       "      <th>Precision 1 - I</th>\n",
       "      <th>Precision 1 - B</th>\n",
       "      <th>Recall 1 - I</th>\n",
       "      <th>Recall 1 - B</th>\n",
       "      <th>F1-Score 1 - I</th>\n",
       "      <th>F1-Score 1 - B</th>\n",
       "    </tr>\n",
       "  </thead>\n",
       "  <tbody>\n",
       "    <tr>\n",
       "      <th>0</th>\n",
       "      <td>0.797450</td>\n",
       "      <td>0.851064</td>\n",
       "      <td>0.73</td>\n",
       "      <td>0.92</td>\n",
       "      <td>0.02</td>\n",
       "      <td>0.94</td>\n",
       "      <td>0.991827</td>\n",
       "      <td>0.785714</td>\n",
       "      <td>0.802033</td>\n",
       "      <td>0.965426</td>\n",
       "      <td>0.886889</td>\n",
       "      <td>0.866348</td>\n",
       "      <td>0.016869</td>\n",
       "      <td>0.955172</td>\n",
       "      <td>0.339474</td>\n",
       "      <td>0.736702</td>\n",
       "      <td>0.032142</td>\n",
       "      <td>0.831832</td>\n",
       "    </tr>\n",
       "    <tr>\n",
       "      <th>1</th>\n",
       "      <td>0.394749</td>\n",
       "      <td>0.565000</td>\n",
       "      <td>0.56</td>\n",
       "      <td>0.72</td>\n",
       "      <td>0.00</td>\n",
       "      <td>0.70</td>\n",
       "      <td>0.998203</td>\n",
       "      <td>0.842105</td>\n",
       "      <td>0.394213</td>\n",
       "      <td>0.160000</td>\n",
       "      <td>0.565211</td>\n",
       "      <td>0.268908</td>\n",
       "      <td>0.002221</td>\n",
       "      <td>0.535912</td>\n",
       "      <td>0.655172</td>\n",
       "      <td>0.970000</td>\n",
       "      <td>0.004426</td>\n",
       "      <td>0.690391</td>\n",
       "    </tr>\n",
       "    <tr>\n",
       "      <th>2</th>\n",
       "      <td>0.970521</td>\n",
       "      <td>0.775641</td>\n",
       "      <td>0.97</td>\n",
       "      <td>0.77</td>\n",
       "      <td>0.54</td>\n",
       "      <td>0.84</td>\n",
       "      <td>0.998373</td>\n",
       "      <td>0.732323</td>\n",
       "      <td>0.971805</td>\n",
       "      <td>0.895062</td>\n",
       "      <td>0.984910</td>\n",
       "      <td>0.805556</td>\n",
       "      <td>0.233755</td>\n",
       "      <td>0.850877</td>\n",
       "      <td>0.844512</td>\n",
       "      <td>0.646667</td>\n",
       "      <td>0.366160</td>\n",
       "      <td>0.734848</td>\n",
       "    </tr>\n",
       "    <tr>\n",
       "      <th>3</th>\n",
       "      <td>0.770466</td>\n",
       "      <td>0.813406</td>\n",
       "      <td>0.96</td>\n",
       "      <td>0.99</td>\n",
       "      <td>0.40</td>\n",
       "      <td>0.99</td>\n",
       "      <td>0.999468</td>\n",
       "      <td>0.983240</td>\n",
       "      <td>0.769024</td>\n",
       "      <td>0.637681</td>\n",
       "      <td>0.869232</td>\n",
       "      <td>0.773626</td>\n",
       "      <td>0.032084</td>\n",
       "      <td>0.731903</td>\n",
       "      <td>0.949275</td>\n",
       "      <td>0.989130</td>\n",
       "      <td>0.062071</td>\n",
       "      <td>0.841294</td>\n",
       "    </tr>\n",
       "    <tr>\n",
       "      <th>4</th>\n",
       "      <td>0.222017</td>\n",
       "      <td>0.565315</td>\n",
       "      <td>0.82</td>\n",
       "      <td>0.95</td>\n",
       "      <td>0.34</td>\n",
       "      <td>0.97</td>\n",
       "      <td>0.998147</td>\n",
       "      <td>0.869048</td>\n",
       "      <td>0.215448</td>\n",
       "      <td>0.162946</td>\n",
       "      <td>0.354400</td>\n",
       "      <td>0.274436</td>\n",
       "      <td>0.010790</td>\n",
       "      <td>0.533582</td>\n",
       "      <td>0.955357</td>\n",
       "      <td>0.975000</td>\n",
       "      <td>0.021340</td>\n",
       "      <td>0.689711</td>\n",
       "    </tr>\n",
       "  </tbody>\n",
       "</table>\n",
       "</div>"
      ],
      "text/plain": [
       "      Acc-I     Acc-B  ROC-I  ROC-B  PR-I  PR-B  Precision 0 - I  \\\n",
       "0  0.797450  0.851064   0.73   0.92  0.02  0.94         0.991827   \n",
       "1  0.394749  0.565000   0.56   0.72  0.00  0.70         0.998203   \n",
       "2  0.970521  0.775641   0.97   0.77  0.54  0.84         0.998373   \n",
       "3  0.770466  0.813406   0.96   0.99  0.40  0.99         0.999468   \n",
       "4  0.222017  0.565315   0.82   0.95  0.34  0.97         0.998147   \n",
       "\n",
       "   Precision 0 - B  Recall 0 - I  Recall 0 - B  F1-Score 0 - I  \\\n",
       "0         0.785714      0.802033      0.965426        0.886889   \n",
       "1         0.842105      0.394213      0.160000        0.565211   \n",
       "2         0.732323      0.971805      0.895062        0.984910   \n",
       "3         0.983240      0.769024      0.637681        0.869232   \n",
       "4         0.869048      0.215448      0.162946        0.354400   \n",
       "\n",
       "   F1-Score 0 - B  Precision 1 - I  Precision 1 - B  Recall 1 - I  \\\n",
       "0        0.866348         0.016869         0.955172      0.339474   \n",
       "1        0.268908         0.002221         0.535912      0.655172   \n",
       "2        0.805556         0.233755         0.850877      0.844512   \n",
       "3        0.773626         0.032084         0.731903      0.949275   \n",
       "4        0.274436         0.010790         0.533582      0.955357   \n",
       "\n",
       "   Recall 1 - B  F1-Score 1 - I  F1-Score 1 - B  \n",
       "0      0.736702        0.032142        0.831832  \n",
       "1      0.970000        0.004426        0.690391  \n",
       "2      0.646667        0.366160        0.734848  \n",
       "3      0.989130        0.062071        0.841294  \n",
       "4      0.975000        0.021340        0.689711  "
      ]
     },
     "execution_count": 3,
     "metadata": {},
     "output_type": "execute_result"
    }
   ],
   "source": [
    "dados.head()"
   ]
  },
  {
   "cell_type": "code",
   "execution_count": 4,
   "metadata": {},
   "outputs": [
    {
     "name": "stdout",
     "output_type": "stream",
     "text": [
      "<class 'pandas.core.frame.DataFrame'>\n",
      "RangeIndex: 18 entries, 0 to 17\n",
      "Data columns (total 18 columns):\n",
      " #   Column           Non-Null Count  Dtype  \n",
      "---  ------           --------------  -----  \n",
      " 0   Acc-I            18 non-null     float64\n",
      " 1   Acc-B            18 non-null     float64\n",
      " 2   ROC-I            18 non-null     float64\n",
      " 3   ROC-B            18 non-null     float64\n",
      " 4   PR-I             18 non-null     float64\n",
      " 5   PR-B             18 non-null     float64\n",
      " 6   Precision 0 - I  18 non-null     float64\n",
      " 7   Precision 0 - B  18 non-null     float64\n",
      " 8   Recall 0 - I     18 non-null     float64\n",
      " 9   Recall 0 - B     18 non-null     float64\n",
      " 10  F1-Score 0 - I   18 non-null     float64\n",
      " 11  F1-Score 0 - B   18 non-null     float64\n",
      " 12  Precision 1 - I  18 non-null     float64\n",
      " 13  Precision 1 - B  18 non-null     float64\n",
      " 14  Recall 1 - I     18 non-null     float64\n",
      " 15  Recall 1 - B     18 non-null     float64\n",
      " 16  F1-Score 1 - I   18 non-null     float64\n",
      " 17  F1-Score 1 - B   18 non-null     float64\n",
      "dtypes: float64(18)\n",
      "memory usage: 2.7 KB\n"
     ]
    }
   ],
   "source": [
    "dados.info()"
   ]
  },
  {
   "cell_type": "markdown",
   "metadata": {},
   "source": [
    "Obtemos a estatística descritiva através do método .describe()"
   ]
  },
  {
   "cell_type": "code",
   "execution_count": 5,
   "metadata": {},
   "outputs": [
    {
     "data": {
      "text/html": [
       "<div>\n",
       "<style scoped>\n",
       "    .dataframe tbody tr th:only-of-type {\n",
       "        vertical-align: middle;\n",
       "    }\n",
       "\n",
       "    .dataframe tbody tr th {\n",
       "        vertical-align: top;\n",
       "    }\n",
       "\n",
       "    .dataframe thead th {\n",
       "        text-align: right;\n",
       "    }\n",
       "</style>\n",
       "<table border=\"1\" class=\"dataframe\">\n",
       "  <thead>\n",
       "    <tr style=\"text-align: right;\">\n",
       "      <th></th>\n",
       "      <th>Acc-I</th>\n",
       "      <th>Acc-B</th>\n",
       "      <th>ROC-I</th>\n",
       "      <th>ROC-B</th>\n",
       "      <th>PR-I</th>\n",
       "      <th>PR-B</th>\n",
       "      <th>Precision 0 - I</th>\n",
       "      <th>Precision 0 - B</th>\n",
       "      <th>Recall 0 - I</th>\n",
       "      <th>Recall 0 - B</th>\n",
       "      <th>F1-Score 0 - I</th>\n",
       "      <th>F1-Score 0 - B</th>\n",
       "      <th>Precision 1 - I</th>\n",
       "      <th>Precision 1 - B</th>\n",
       "      <th>Recall 1 - I</th>\n",
       "      <th>Recall 1 - B</th>\n",
       "      <th>F1-Score 1 - I</th>\n",
       "      <th>F1-Score 1 - B</th>\n",
       "    </tr>\n",
       "  </thead>\n",
       "  <tbody>\n",
       "    <tr>\n",
       "      <th>count</th>\n",
       "      <td>18.000000</td>\n",
       "      <td>18.000000</td>\n",
       "      <td>18.000000</td>\n",
       "      <td>18.000000</td>\n",
       "      <td>18.000000</td>\n",
       "      <td>18.000000</td>\n",
       "      <td>18.000000</td>\n",
       "      <td>18.000000</td>\n",
       "      <td>18.000000</td>\n",
       "      <td>18.000000</td>\n",
       "      <td>18.000000</td>\n",
       "      <td>18.000000</td>\n",
       "      <td>18.000000</td>\n",
       "      <td>18.000000</td>\n",
       "      <td>18.000000</td>\n",
       "      <td>18.000000</td>\n",
       "      <td>18.000000</td>\n",
       "      <td>18.000000</td>\n",
       "    </tr>\n",
       "    <tr>\n",
       "      <th>mean</th>\n",
       "      <td>0.848474</td>\n",
       "      <td>0.679783</td>\n",
       "      <td>0.749444</td>\n",
       "      <td>0.772778</td>\n",
       "      <td>0.190556</td>\n",
       "      <td>0.803889</td>\n",
       "      <td>0.988548</td>\n",
       "      <td>0.718834</td>\n",
       "      <td>0.858058</td>\n",
       "      <td>0.622170</td>\n",
       "      <td>0.899015</td>\n",
       "      <td>0.621785</td>\n",
       "      <td>0.163678</td>\n",
       "      <td>0.708592</td>\n",
       "      <td>0.382244</td>\n",
       "      <td>0.741063</td>\n",
       "      <td>0.138872</td>\n",
       "      <td>0.696552</td>\n",
       "    </tr>\n",
       "    <tr>\n",
       "      <th>std</th>\n",
       "      <td>0.214039</td>\n",
       "      <td>0.170850</td>\n",
       "      <td>0.187286</td>\n",
       "      <td>0.195352</td>\n",
       "      <td>0.205067</td>\n",
       "      <td>0.175303</td>\n",
       "      <td>0.010439</td>\n",
       "      <td>0.196839</td>\n",
       "      <td>0.220281</td>\n",
       "      <td>0.325019</td>\n",
       "      <td>0.170138</td>\n",
       "      <td>0.255989</td>\n",
       "      <td>0.244913</td>\n",
       "      <td>0.190596</td>\n",
       "      <td>0.343979</td>\n",
       "      <td>0.206659</td>\n",
       "      <td>0.182778</td>\n",
       "      <td>0.147167</td>\n",
       "    </tr>\n",
       "    <tr>\n",
       "      <th>min</th>\n",
       "      <td>0.222017</td>\n",
       "      <td>0.213889</td>\n",
       "      <td>0.220000</td>\n",
       "      <td>0.150000</td>\n",
       "      <td>0.000000</td>\n",
       "      <td>0.290000</td>\n",
       "      <td>0.960458</td>\n",
       "      <td>0.132743</td>\n",
       "      <td>0.215448</td>\n",
       "      <td>0.075000</td>\n",
       "      <td>0.354400</td>\n",
       "      <td>0.095847</td>\n",
       "      <td>0.001337</td>\n",
       "      <td>0.251012</td>\n",
       "      <td>0.003378</td>\n",
       "      <td>0.341182</td>\n",
       "      <td>0.002607</td>\n",
       "      <td>0.304668</td>\n",
       "    </tr>\n",
       "    <tr>\n",
       "      <th>25%</th>\n",
       "      <td>0.810961</td>\n",
       "      <td>0.565079</td>\n",
       "      <td>0.655000</td>\n",
       "      <td>0.705000</td>\n",
       "      <td>0.040000</td>\n",
       "      <td>0.707500</td>\n",
       "      <td>0.986222</td>\n",
       "      <td>0.655668</td>\n",
       "      <td>0.816517</td>\n",
       "      <td>0.319917</td>\n",
       "      <td>0.894937</td>\n",
       "      <td>0.410238</td>\n",
       "      <td>0.016875</td>\n",
       "      <td>0.534164</td>\n",
       "      <td>0.057941</td>\n",
       "      <td>0.599167</td>\n",
       "      <td>0.020570</td>\n",
       "      <td>0.633101</td>\n",
       "    </tr>\n",
       "    <tr>\n",
       "      <th>50%</th>\n",
       "      <td>0.947993</td>\n",
       "      <td>0.719820</td>\n",
       "      <td>0.780000</td>\n",
       "      <td>0.775000</td>\n",
       "      <td>0.125000</td>\n",
       "      <td>0.830000</td>\n",
       "      <td>0.990421</td>\n",
       "      <td>0.716392</td>\n",
       "      <td>0.964099</td>\n",
       "      <td>0.718605</td>\n",
       "      <td>0.973275</td>\n",
       "      <td>0.742441</td>\n",
       "      <td>0.057930</td>\n",
       "      <td>0.771309</td>\n",
       "      <td>0.309940</td>\n",
       "      <td>0.763119</td>\n",
       "      <td>0.072369</td>\n",
       "      <td>0.690051</td>\n",
       "    </tr>\n",
       "    <tr>\n",
       "      <th>75%</th>\n",
       "      <td>0.972363</td>\n",
       "      <td>0.803965</td>\n",
       "      <td>0.865000</td>\n",
       "      <td>0.912500</td>\n",
       "      <td>0.305000</td>\n",
       "      <td>0.937500</td>\n",
       "      <td>0.995384</td>\n",
       "      <td>0.840553</td>\n",
       "      <td>0.986660</td>\n",
       "      <td>0.900236</td>\n",
       "      <td>0.985944</td>\n",
       "      <td>0.809389</td>\n",
       "      <td>0.203773</td>\n",
       "      <td>0.842757</td>\n",
       "      <td>0.648822</td>\n",
       "      <td>0.907794</td>\n",
       "      <td>0.166566</td>\n",
       "      <td>0.810241</td>\n",
       "    </tr>\n",
       "    <tr>\n",
       "      <th>max</th>\n",
       "      <td>0.985930</td>\n",
       "      <td>0.945545</td>\n",
       "      <td>0.970000</td>\n",
       "      <td>0.990000</td>\n",
       "      <td>0.580000</td>\n",
       "      <td>1.000000</td>\n",
       "      <td>0.999468</td>\n",
       "      <td>0.989247</td>\n",
       "      <td>0.999926</td>\n",
       "      <td>0.965426</td>\n",
       "      <td>0.992909</td>\n",
       "      <td>0.943590</td>\n",
       "      <td>0.916667</td>\n",
       "      <td>0.955172</td>\n",
       "      <td>0.955357</td>\n",
       "      <td>0.990000</td>\n",
       "      <td>0.620000</td>\n",
       "      <td>0.947368</td>\n",
       "    </tr>\n",
       "  </tbody>\n",
       "</table>\n",
       "</div>"
      ],
      "text/plain": [
       "           Acc-I      Acc-B      ROC-I      ROC-B       PR-I       PR-B  \\\n",
       "count  18.000000  18.000000  18.000000  18.000000  18.000000  18.000000   \n",
       "mean    0.848474   0.679783   0.749444   0.772778   0.190556   0.803889   \n",
       "std     0.214039   0.170850   0.187286   0.195352   0.205067   0.175303   \n",
       "min     0.222017   0.213889   0.220000   0.150000   0.000000   0.290000   \n",
       "25%     0.810961   0.565079   0.655000   0.705000   0.040000   0.707500   \n",
       "50%     0.947993   0.719820   0.780000   0.775000   0.125000   0.830000   \n",
       "75%     0.972363   0.803965   0.865000   0.912500   0.305000   0.937500   \n",
       "max     0.985930   0.945545   0.970000   0.990000   0.580000   1.000000   \n",
       "\n",
       "       Precision 0 - I  Precision 0 - B  Recall 0 - I  Recall 0 - B  \\\n",
       "count        18.000000        18.000000     18.000000     18.000000   \n",
       "mean          0.988548         0.718834      0.858058      0.622170   \n",
       "std           0.010439         0.196839      0.220281      0.325019   \n",
       "min           0.960458         0.132743      0.215448      0.075000   \n",
       "25%           0.986222         0.655668      0.816517      0.319917   \n",
       "50%           0.990421         0.716392      0.964099      0.718605   \n",
       "75%           0.995384         0.840553      0.986660      0.900236   \n",
       "max           0.999468         0.989247      0.999926      0.965426   \n",
       "\n",
       "       F1-Score 0 - I  F1-Score 0 - B  Precision 1 - I  Precision 1 - B  \\\n",
       "count       18.000000       18.000000        18.000000        18.000000   \n",
       "mean         0.899015        0.621785         0.163678         0.708592   \n",
       "std          0.170138        0.255989         0.244913         0.190596   \n",
       "min          0.354400        0.095847         0.001337         0.251012   \n",
       "25%          0.894937        0.410238         0.016875         0.534164   \n",
       "50%          0.973275        0.742441         0.057930         0.771309   \n",
       "75%          0.985944        0.809389         0.203773         0.842757   \n",
       "max          0.992909        0.943590         0.916667         0.955172   \n",
       "\n",
       "       Recall 1 - I  Recall 1 - B  F1-Score 1 - I  F1-Score 1 - B  \n",
       "count     18.000000     18.000000       18.000000       18.000000  \n",
       "mean       0.382244      0.741063        0.138872        0.696552  \n",
       "std        0.343979      0.206659        0.182778        0.147167  \n",
       "min        0.003378      0.341182        0.002607        0.304668  \n",
       "25%        0.057941      0.599167        0.020570        0.633101  \n",
       "50%        0.309940      0.763119        0.072369        0.690051  \n",
       "75%        0.648822      0.907794        0.166566        0.810241  \n",
       "max        0.955357      0.990000        0.620000        0.947368  "
      ]
     },
     "execution_count": 5,
     "metadata": {},
     "output_type": "execute_result"
    }
   ],
   "source": [
    "dados.describe()"
   ]
  },
  {
   "cell_type": "markdown",
   "metadata": {},
   "source": [
    "Definimos duas funções: \n",
    "- Função df_to_array que transforma os dados da coluna desejada em um vetor\n",
    "- Função shapiro_wilk_test que realiza o teste de normalidade dos dados"
   ]
  },
  {
   "cell_type": "code",
   "execution_count": 7,
   "metadata": {},
   "outputs": [],
   "source": [
    "def df_to_array (dataframe, column_name):\n",
    "\n",
    "    data = dataframe[column_name].to_numpy()\n",
    "    \n",
    "    return data "
   ]
  },
  {
   "cell_type": "code",
   "execution_count": 8,
   "metadata": {},
   "outputs": [],
   "source": [
    "def shapiro_wilk_test(array_data):\n",
    "    \n",
    "    stat, p_value = shapiro(array_data)\n",
    "\n",
    "    # Nível de significância\n",
    "    alpha = 0.05\n",
    "\n",
    "    if p_value > alpha:\n",
    "        print(f\"Os dados parecem ser normalmente distribuídos (p > 0.05). Valor de p: {p_value}, Estatística do teste: {stat}\")\n",
    "    else:\n",
    "        print(f\"Os dados não parecem ser normalmente distribuídos (p <= 0.05). Valor de p: {p_value}, Estatística do teste: {stat}\")\n",
    "    return stat, p_value\n"
   ]
  },
  {
   "cell_type": "markdown",
   "metadata": {},
   "source": [
    "Agora, com as funções definidas, podemos realizar os testes estatísticos, começando pelo teste de normalidade.\n",
    "\n",
    "Mas por que é importante realizar esse teste?\n",
    "\n",
    "O teste de normalidade vai nos indicar se uma amostra de dados segue uma distribuição normal. \n",
    "\n",
    "Na distribuição normal os dados são simétricos em torno da média, com a maioria dos dados agrupados no centro e uma proporção menor dos dados agrupados nos extremos. \n",
    "\n",
    "Em alguns casos podemos ter uma noção da distribuição dos dados através do histograma.\n"
   ]
  },
  {
   "cell_type": "code",
   "execution_count": 49,
   "metadata": {},
   "outputs": [
    {
     "data": {
      "text/plain": [
       "<Axes: >"
      ]
     },
     "execution_count": 49,
     "metadata": {},
     "output_type": "execute_result"
    },
    {
     "data": {
      "image/png": "[encoded data removed]",
      "text/plain": [
       "<Figure size 640x480 with 1 Axes>"
      ]
     },
     "metadata": {},
     "output_type": "display_data"
    }
   ],
   "source": [
    "dados['Acc-I'].hist(bins=20)"
   ]
  },
  {
   "cell_type": "markdown",
   "metadata": {},
   "source": [
    "A visualização da distribuição não nos ajudou muito, então seguimos para o teste de normalidade. \n",
    "\n",
    "Nesse caso, como temos um N < 30, aplicamos o Teste de Shapiro-Wilk.\n",
    "\n",
    "O teste retorna os valores de \"stat\" e \"p_value\". \"Stat\" é um valor entre 0 e 1. Quanto mais próximo de 1, mais os dados se aproximam de uma distribuição normal.\n"
   ]
  },
  {
   "cell_type": "code",
   "execution_count": 9,
   "metadata": {},
   "outputs": [],
   "source": [
    "acc_I = df_to_array(dados, 'Acc-I')\n",
    "acc_B = df_to_array(dados, 'Acc-B')"
   ]
  },
  {
   "cell_type": "code",
   "execution_count": 10,
   "metadata": {},
   "outputs": [
    {
     "name": "stdout",
     "output_type": "stream",
     "text": [
      "Os dados não parecem ser normalmente distribuídos (p <= 0.05). Valor de p: 3.5860906791640446e-05, Estatística do teste: 0.6692975163459778\n"
     ]
    }
   ],
   "source": [
    "normalidade = shapiro_wilk_test(acc_I)"
   ]
  },
  {
   "cell_type": "markdown",
   "metadata": {},
   "source": [
    "Agora que verificamos a normalidade dos dados, vamos verificar se houve diferenças entre os grupos.\n",
    "\n",
    "Aqui, vamos comparar a acurácia obtida na classificação desbalanceada (I) e na balanceada (B)"
   ]
  },
  {
   "cell_type": "markdown",
   "metadata": {},
   "source": [
    "Novamente, definimos uma função para o teste estatístico.\n",
    "\n",
    "Escolhemos o Teste de Wilcoxon, apropriado para verificar diferenças entre grupos em amostras pareadas de dados que não suguem uma distribuição normal. \n",
    "\n",
    "O teste de Wilcoxon padrão é a opção two-sided, que testa diferenças significativas entre os grupos sem especificar a direção. As outras opções são a \"less\" e \"greater\" que especificam diferenças menores e maiores.  "
   ]
  },
  {
   "cell_type": "code",
   "execution_count": 11,
   "metadata": {},
   "outputs": [],
   "source": [
    "def wilcoxon_test (data1, data2):\n",
    "\n",
    "    wil_test, p_value = wilcoxon(data1, data2, alternative='two-sided')\n",
    "    \n",
    "    # Nível de significância\n",
    "    alpha = 0.05\n",
    "\n",
    "    if p_value > alpha:\n",
    "        print(f\"Não há diferenças entre os grupos (p > 0.05).\")\n",
    "    else:\n",
    "        print(f\"Há diferenças entre os grupos (p <= 0.05).\")\n",
    "    return wil_test, p_value "
   ]
  },
  {
   "cell_type": "code",
   "execution_count": 12,
   "metadata": {},
   "outputs": [
    {
     "name": "stdout",
     "output_type": "stream",
     "text": [
      "Há diferenças entre os grupos (p <= 0.05).\n"
     ]
    },
    {
     "data": {
      "text/plain": [
       "(27.0, 0.00896453857421875)"
      ]
     },
     "execution_count": 12,
     "metadata": {},
     "output_type": "execute_result"
    }
   ],
   "source": [
    "wilcoxon_test(acc_I, acc_B)"
   ]
  },
  {
   "cell_type": "markdown",
   "metadata": {},
   "source": [
    "Sabendo que nossos dados não seguem uma distribuição normal, podemos usar o Boxplot para visulizar nossa amostra.\n",
    " \n",
    "É possível visualizar os quartis, a mediana, os limites superiores e inferiores e também os outliers."
   ]
  },
  {
   "cell_type": "code",
   "execution_count": 47,
   "metadata": {},
   "outputs": [
    {
     "data": {
      "image/png": "[encoded data removed]",
      "text/plain": [
       "<Figure size 640x480 with 1 Axes>"
      ]
     },
     "metadata": {},
     "output_type": "display_data"
    }
   ],
   "source": [
    "# Selecione os dados de acc_I e acc_B do dataframe\n",
    "data = [dados['Acc-I'], dados['Acc-B']]\n",
    "sns.set_theme(style='whitegrid', palette='deep')\n",
    "\n",
    "# Crie o boxplot com Seaborn\n",
    "sns.boxplot(data=data, width=0.2)\n",
    "\n",
    "# Adicione um título ao gráfico\n",
    "plt.title('Distribuição da Acurácia Por Classificação')\n",
    "# Mostre o boxplot\n",
    "plt.show()\n"
   ]
  },
  {
   "cell_type": "markdown",
   "metadata": {},
   "source": [
    "Concluimos a nossa análise, é importante notar que exemplifiquei usando apenas duas variávies, mas realizei os testes para todos os resultados obtidos. \n",
    "\n",
    "A análise completa está disponível aqui: https://repositorio.ufrn.br/handle/123456789/55590"
   ]
  }
 ],
 "metadata": {
  "kernelspec": {
   "display_name": "base",
   "language": "python",
   "name": "python3"
  },
  "language_info": {
   "codemirror_mode": {
    "name": "ipython",
    "version": 3
   },
   "file_extension": ".py",
   "mimetype": "text/x-python",
   "name": "python",
   "nbconvert_exporter": "python",
   "pygments_lexer": "ipython3",
   "version": "3.10.13"
  }
 },
 "nbformat": 4,
 "nbformat_minor": 2
}
